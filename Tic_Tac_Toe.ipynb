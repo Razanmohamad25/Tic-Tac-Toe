{
  "nbformat": 4,
  "nbformat_minor": 0,
  "metadata": {
    "colab": {
      "provenance": []
    },
    "kernelspec": {
      "name": "python3",
      "display_name": "Python 3"
    },
    "language_info": {
      "name": "python"
    }
  },
  "cells": [
    {
      "cell_type": "markdown",
      "source": [
        "**Building Tic Tac Toe Game using Reinforcement learning**\n",
        "\n",
        "\n",
        "First we will start by importing libraries we need:\n",
        "\n",
        "   Numpy: used for numerical operations, array manipulation, and mathematical functions in Python.\n",
        "\n",
        "   pickle: allows us to serialize and deserialize Python objects, which is useful for saving and loading data structures.\n",
        "\n",
        "Define two constants that will be used to create and manipulate the game board"
      ],
      "metadata": {
        "id": "FhfxTEiIlrEc"
      }
    },
    {
      "cell_type": "code",
      "execution_count": 20,
      "metadata": {
        "id": "2lGFfis6xONy"
      },
      "outputs": [],
      "source": [
        "import numpy as np\n",
        "import pickle\n",
        "# Define BOARD_Rows and BOARD_Cols\n",
        "BOARD_Rows = 3\n",
        "BOARD_Cols = 3"
      ]
    },
    {
      "cell_type": "markdown",
      "source": [
        "Now let's start with the **state class** to represents the current configuration of the game board. It encapsulates all relevant information needed to describe the game state at any given moment\n",
        "\n",
        "\n",
        "**Essentially,** the state class holds data about where Xs and Os are placed on the board, which squares are empty, and whose turn it is (whether it’s Player X or Player O)"
      ],
      "metadata": {
        "id": "joS93mu-n2nf"
      }
    },
    {
      "cell_type": "code",
      "source": [
        "class state:\n",
        "    def __init__(self,p1,p2,board):\n",
        "        self.board=np.zeros((BOARD_Cols,BOARD_Rows))\n",
        "        self.p1=p1\n",
        "        self.p2=p2\n",
        "        self.isEnd=False\n",
        "        self.boardHash=None\n",
        "        self.board=board\n",
        "        #init p1 player first\n",
        "        self.playerSymbol=1\n",
        "       #get unique hash of current board state\n",
        "    def gethash(self):\n",
        "        self.boardHash=str(self.board.reshape(BOARD_Cols,BOARD_Rows))\n",
        "        return self.boardHash\n",
        "    def winner(self):\n",
        "        #ROW\n",
        "        for i in range (BOARD_Rows):\n",
        "            if sum(self.board[i,:])==3:\n",
        "                self.isEnd=True\n",
        "                return 1\n",
        "            if sum(self.board[i,:])==-3:\n",
        "                self.isEnd=True\n",
        "                return -1\n",
        "         #column\n",
        "        for j in range(BOARD_Cols): #loop for column check\n",
        "            if sum(self.board[:,j])==3:\n",
        "              self.isEnd=True\n",
        "              return 1\n",
        "            if sum(self.board[:, j]) == -3:\n",
        "               self.isEnd = True\n",
        "               return -1\n",
        "         #Diagonal\n",
        "        diag_sum1=sum([self.board[i,i]for i in range (BOARD_Cols)])\n",
        "        diag_sum2=sum([self.board[i,BOARD_Cols-i-1]for i in range(BOARD_Cols)])\n",
        "        diag_sum=max(diag_sum1,diag_sum2)\n",
        "        if diag_sum==3 or diag_sum2 == 3:  # Check for 'x' win (1)\n",
        "            self.isEnd=True\n",
        "            return 1\n",
        "        if diag_sum==-3 or diag_sum2 == -3:  # Check for 'o' win (-1)\n",
        "            self.isEnd=True\n",
        "            return -1\n",
        "         #No available positions\n",
        "        if len(self.availablepositions())==0:\n",
        "            self.isEnd=True\n",
        "            return 0\n",
        "        #Not End\n",
        "        self.isEnd=False\n",
        "        return None\n",
        "    def availablepositions(self):\n",
        "        positions=[]\n",
        "        for i in range(BOARD_Rows):\n",
        "            for j in range(BOARD_Cols):\n",
        "                if self.board[i,j]==0:\n",
        "                    positions.append((i,j))#Need to be tuple\n",
        "        return positions\n",
        "    def updatestate(self,positions):\n",
        "        self.board[positions]=self.playerSymbol\n",
        "        #Switch to another player\n",
        "        self.playerSymbol=-1 if self.playerSymbol==1 else 1\n",
        "    #Only when game Ends!\n",
        "    def giveReward(self):\n",
        "        result=self.winner()\n",
        "        #Back propogate reward\n",
        "        if result==1:\n",
        "            self.p1.feedReward(1)\n",
        "            self.p2.feedReward(2)\n",
        "        elif result==-1:\n",
        "            self.p1.feedReward(0)\n",
        "            self.p2.feedReward(1)\n",
        "        else:\n",
        "            self.p1.selfReward(0.1)\n",
        "            self.p1.selfReward(0.5)\n",
        "      #Board reset\n",
        "    def reset(self):\n",
        "        self.board=np.zeros((BOARD_Rows,BOARD_Cols))\n",
        "        self.boardHash=None\n",
        "        self.isEnd=False\n",
        "        self.playerSymbol=1\n",
        "    def play(self,rounds=100):\n",
        "        for i in range (rounds):\n",
        "            if i%1000==0:\n",
        "                print(\"Rounds{}\".format(i))\n",
        "            while not self.isEnd:\n",
        "                #player1\n",
        "                positions=self.availablepositions()\n",
        "                p1_action=self.p1.chooseAction(positions,self.board,self.playerSymbol)\n",
        "                #Take action and update board state\n",
        "                self.updatestate(p1_action)\n",
        "                board_hash=self.gethash()\n",
        "                self.p1.addstate(board_hash)\n",
        "                #Check board state if it's end\n",
        "                win=self.winner()\n",
        "                if win is not None:\n",
        "                    #self.showBoard()\n",
        "                    #ended with p1 either win or draw\n",
        "                    self.giveReward()\n",
        "                    self.p1.reset()\n",
        "                    self.p2.reset()\n",
        "                    self.reset()\n",
        "                    break\n",
        "                else: #player2\n",
        "                    positions=self.availablepositions()\n",
        "                    p2_action=self.p2.chooseAction(positions,self.board,self.playerSymbol)\n",
        "                    self.updatestate(p2_action)\n",
        "                    board_hash=self.gethash()\n",
        "                    self.p2.addstate(board_hash)\n",
        "                    win=self.winner()\n",
        "                    if win is not None:\n",
        "                        self.giveReward()\n",
        "                        self.p1.reset()\n",
        "                        self.p2.reset()\n",
        "                        self.reset()\n",
        "                        break\n",
        "    #play with human\n",
        "    def play2(self):\n",
        "        while not self.isEnd: #player1\n",
        "            positions=self.availablepositions()\n",
        "            p1_action=self.p1.chooseAction(positions,self.board,self.playerSymbol)\n",
        "            #Take Action and update state\n",
        "            self.updatestate(p1_action)\n",
        "            self.ShowBoard()\n",
        "                    # Check if p1_action is None\n",
        "            if p1_action is None:\n",
        "               print(\"No valid moves for player 1. It's a tie!\")\n",
        "               self.reset()\n",
        "               break\n",
        "            #check board status if it's end\n",
        "            win=self.winner()\n",
        "            if win is not None: #check if the game has Ended\n",
        "                if win==1:\n",
        "                    print(self.p1.name,\"Wins!\")\n",
        "                elif win==-1:\n",
        "                  print(self.p2.name,\"Wins!\") #print the correct winner\n",
        "                else:\n",
        "                    print(\"Tie\")\n",
        "                self.reset()\n",
        "                break\n",
        "            else: #player2\n",
        "                positions=self.availablepositions()\n",
        "                p2_action=self.p2.chooseAction(positions)\n",
        "                self.updatestate(p2_action)\n",
        "                self.ShowBoard()\n",
        "                        # Check if p1_action is None\n",
        "                if p2_action is None:\n",
        "                   print(\"No valid moves for player 2. It's a tie!\")\n",
        "                   self.reset()\n",
        "                   break\n",
        "                win=self.winner()\n",
        "                if win is not None:\n",
        "                    if win==-1:\n",
        "                        print(self.p2.name,\"Wins!\")\n",
        "                    elif win==1:\n",
        "                      print(self.p1.name,\"Wins!\")\n",
        "                    else:\n",
        "                        print(\"Tie!\")\n",
        "                    self.reset()\n",
        "                    break\n",
        "    def ShowBoard(self):\n",
        "        #p1:X p2:O\n",
        "        for i in range(0,BOARD_Rows):\n",
        "            print(\"----------\")\n",
        "            out=\"|\"\n",
        "            for j in range(0,BOARD_Cols):\n",
        "                token=\" \"\n",
        "                if self.board[i,j]==1:\n",
        "                    token=\"x\"\n",
        "                if self.board[i,j]==-1:\n",
        "                    token=\"o\"\n",
        "                out+=token+\"|\"\n",
        "            print(out)\n",
        "        print(\"----------\")"
      ],
      "metadata": {
        "id": "J08f0s2YJwot"
      },
      "execution_count": 21,
      "outputs": []
    },
    {
      "cell_type": "markdown",
      "source": [
        "our next step is to start with **player class** it represents an individual player—either ‘X’ or ‘O.’ It encapsulates information about the player’s identity, behavior, and moves during the game\n",
        "\n",
        "**the player class** is essential for managing interactions between players and the game board"
      ],
      "metadata": {
        "id": "NJfI4bIvpVEs"
      }
    },
    {
      "cell_type": "code",
      "source": [
        "class player:\n",
        "    def __init__(self,name,exp_rate=0.3):\n",
        "        self.name=name\n",
        "        self.states=[] #record all positions taken\n",
        "        self.lr=0.2\n",
        "        self.exp_rate=exp_rate\n",
        "        self.decay_gamma=0.9\n",
        "        self.states_value={} #states-->value\n",
        "    def getHash(self,board):\n",
        "        boardHash=str(board.reshape(BOARD_Cols*BOARD_Rows))\n",
        "        return boardHash\n",
        "    def chooseAction(self,positions,current_board,symbol):\n",
        "        if not positions:  # Check if positions is empty\n",
        "           return None  # Return None to indicate no move possible\n",
        "\n",
        "        if np.random.uniform(0,1)<=self.exp_rate:\n",
        "            #Take random Action\n",
        "            idx=np.random.choice(len(positions))\n",
        "            action=positions[idx]\n",
        "        else:\n",
        "            value_max=-999\n",
        "            for p in positions:\n",
        "                next_board=current_board.copy()\n",
        "                next_board[p]=symbol\n",
        "                next_boardHash=self.getHash(next_board)\n",
        "                value=0 if self.states_value.get(next_boardHash)is None else self.states_value.get(next_boardHash)\n",
        "                #print(\"value\",value)\n",
        "                if value>=value_max:\n",
        "                    value_max=value\n",
        "                    action=p\n",
        "         # If no action found (positions empty), return a default or raise an exception.\n",
        "        # In this case, we've already handled empty positions, so we can safely return action\n",
        "            return action\n",
        "    def addstate(self,state):\n",
        "        self.states.append(state)\n",
        "        #At the end of game ,backpropagate and update states value\n",
        "    def feedReward(self,reward):\n",
        "        for st in reversed(self.states):\n",
        "            if self.states_value.get(st)is None:\n",
        "                self.states_value[st]=0\n",
        "            self.states_value[st]+=self.lr*(self.decay_gamma*reward-self.states_value[st])\n",
        "            reward=self.states_value[st]\n",
        "    def reset(self):\n",
        "        self.states=[]\n",
        "    def savepolicy(self):\n",
        "        fw=open(\"policy\"+str(self.name),\"wb\")\n",
        "        pickle.dump(self.states_value,fw)\n",
        "        fw.close()\n",
        "    def loadpolicy(self,file):\n",
        "        fr=open(file,\"rb\")\n",
        "        self.states_value=pickle.load(fr)\n",
        "        fr.close()"
      ],
      "metadata": {
        "id": "OjjZsPC5J4VU"
      },
      "execution_count": 22,
      "outputs": []
    },
    {
      "cell_type": "markdown",
      "source": [
        "Now let's dive into **Human class**"
      ],
      "metadata": {
        "id": "lW64EQglqaMT"
      }
    },
    {
      "cell_type": "code",
      "source": [
        "class Humanplayer:\n",
        "    def __init__(self,name):\n",
        "        self.name=name\n",
        "    def chooseAction(self,positions):\n",
        "        while True:\n",
        "            row=int(input(\"Input your action row: \"))\n",
        "            col=int(input(\"Input your action col: \"))\n",
        "            action=(row,col)\n",
        "            if action in positions:\n",
        "                return action\n",
        "    #Append a hash state\n",
        "    def addstate(self,state):\n",
        "        pass\n",
        "    def feedReward(self,reward):\n",
        "        pass\n",
        "    def reset(self):\n",
        "        pass\n",
        ""
      ],
      "metadata": {
        "id": "Xux9yiopKFos"
      },
      "execution_count": 23,
      "outputs": []
    },
    {
      "cell_type": "markdown",
      "source": [
        "**Last but not least** we created a 2D Numpy array This array represents the Tic-Tac-Toe board, where each cell can be empty (0), contain an ‘X’, or an ‘O\n",
        "\n",
        "we created two player instances **p1,p2**\n",
        "\n",
        "we created an instance of the state class (st).\n",
        "\n",
        "Assuming that the state class handles game logic, it will manage the game state transitions, player moves, and checking for a winner or a draw\n",
        "\n",
        "we initiated a training loop with st.play(50).\n",
        "This loop runs 50 rounds of the game (assuming each round is a complete game of Tic-Tac-Toe)."
      ],
      "metadata": {
        "id": "CW94VOGsrAIJ"
      }
    },
    {
      "cell_type": "code",
      "source": [
        "board = np.zeros((BOARD_Rows, BOARD_Cols))\n",
        "p1 = player(\"p1\")\n",
        "p2 = player(\"p2\")\n",
        "st = state( p1,p2,board) # Assuming 'board' is intended as the initial board state\n",
        "print(\"Training....\")\n",
        "st.play(50)"
      ],
      "metadata": {
        "colab": {
          "base_uri": "https://localhost:8080/"
        },
        "id": "h1sMgw0fLK17",
        "outputId": "2cbf88ec-741d-4830-a326-609af5281a5d"
      },
      "execution_count": 24,
      "outputs": [
        {
          "output_type": "stream",
          "name": "stdout",
          "text": [
            "Training....\n",
            "Rounds0\n"
          ]
        }
      ]
    },
    {
      "cell_type": "markdown",
      "source": [
        "**Finally**:\n",
        "\n",
        "we created two players:\n",
        "\n",
        "p1: This player is named “computer” and has an exploration rate of 0 (meaning it won’t explore random moves during training).\n",
        "\n",
        "p2: This player is a human player named “Human.\n",
        "\n",
        "**Saving and Loading Policies:**\n",
        "Before initializing p1, we saved its policy using p1.savepolicy().\n",
        "Later, we loaded the policy from a file called “policyp1” using p1.loadpolicy(\"policyp1\")."
      ],
      "metadata": {
        "id": "EBlh07YHtuH8"
      }
    },
    {
      "cell_type": "code",
      "source": [
        "p1.savepolicy()\n",
        "p1=player(\"computer\",exp_rate=0)\n",
        "p1.loadpolicy(\"policyp1\")\n",
        "p2=Humanplayer(\"Human\")\n",
        "board = np.zeros((BOARD_Rows, BOARD_Cols))\n",
        "st=state(p1,p2,board)\n",
        "st.play2()"
      ],
      "metadata": {
        "colab": {
          "base_uri": "https://localhost:8080/"
        },
        "id": "cYxb8sm8KJNM",
        "outputId": "9acb393e-cadc-4e3b-e333-c8e52bd60228"
      },
      "execution_count": 25,
      "outputs": [
        {
          "output_type": "stream",
          "name": "stdout",
          "text": [
            "----------\n",
            "| | | |\n",
            "----------\n",
            "| | | |\n",
            "----------\n",
            "| | |x|\n",
            "----------\n",
            "Input your action row: 0\n",
            "Input your action col: 2\n",
            "----------\n",
            "| | |o|\n",
            "----------\n",
            "| | | |\n",
            "----------\n",
            "| | |x|\n",
            "----------\n",
            "----------\n",
            "| | |o|\n",
            "----------\n",
            "| | | |\n",
            "----------\n",
            "| |x|x|\n",
            "----------\n",
            "Input your action row: 2\n",
            "Input your action col: 0\n",
            "----------\n",
            "| | |o|\n",
            "----------\n",
            "| | | |\n",
            "----------\n",
            "|o|x|x|\n",
            "----------\n",
            "----------\n",
            "| | |o|\n",
            "----------\n",
            "| | |x|\n",
            "----------\n",
            "|o|x|x|\n",
            "----------\n",
            "Input your action row: 1\n",
            "Input your action col: 1\n",
            "----------\n",
            "| | |o|\n",
            "----------\n",
            "| |o|x|\n",
            "----------\n",
            "|o|x|x|\n",
            "----------\n",
            "Human Wins!\n"
          ]
        }
      ]
    },
    {
      "cell_type": "code",
      "source": [],
      "metadata": {
        "id": "6jZgQoYhlT3p"
      },
      "execution_count": null,
      "outputs": []
    }
  ]
}